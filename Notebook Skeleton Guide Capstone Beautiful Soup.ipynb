{
 "cells": [
  {
   "cell_type": "markdown",
   "metadata": {},
   "source": [
    "# Capstone Webscrapping using BeautifulSoup\n",
    "\n",
    "This notebook contains guidances & tasks on the data processing for the application\n",
    "\n",
    "In this project, I tried to make an analysis of USD/IDR price chart. Tha analysis can be used to get an insight about USD/IDr price action and the right times to buy or sell USD to IDR.\n",
    "\n",
    "\n",
    "## Requesting the Data and Creating a BeautifulSoup\n",
    "\n",
    "Let's begin with requesting the web from the site with `get` method."
   ]
  },
  {
   "cell_type": "code",
   "execution_count": 1,
   "metadata": {},
   "outputs": [
    {
     "name": "stdout",
     "output_type": "stream",
     "text": [
      "Requirement already satisfied: requests in c:\\users\\asus\\anaconda3\\envs\\web-scraping\\lib\\site-packages (2.25.1)\n",
      "Requirement already satisfied: idna<3,>=2.5 in c:\\users\\asus\\anaconda3\\envs\\web-scraping\\lib\\site-packages (from requests) (2.10)\n",
      "Requirement already satisfied: chardet<5,>=3.0.2 in c:\\users\\asus\\anaconda3\\envs\\web-scraping\\lib\\site-packages (from requests) (4.0.0)\n",
      "Requirement already satisfied: certifi>=2017.4.17 in c:\\users\\asus\\anaconda3\\envs\\web-scraping\\lib\\site-packages (from requests) (2020.12.5)\n",
      "Requirement already satisfied: urllib3<1.27,>=1.21.1 in c:\\users\\asus\\anaconda3\\envs\\web-scraping\\lib\\site-packages (from requests) (1.26.3)\n",
      "Note: you may need to restart the kernel to use updated packages.\n"
     ]
    }
   ],
   "source": [
    "pip install requests"
   ]
  },
  {
   "cell_type": "code",
   "execution_count": 1,
   "metadata": {
    "ExecuteTime": {
     "end_time": "2020-01-13T05:12:23.275508Z",
     "start_time": "2020-01-13T05:12:20.009898Z"
    },
    "scrolled": true
   },
   "outputs": [],
   "source": [
    "import requests\n",
    "\n",
    "url_get = requests.get('https://www.exchange-rates.org/history/IDR/USD/T')"
   ]
  },
  {
   "cell_type": "markdown",
   "metadata": {},
   "source": [
    "To visualize what exactly you get from the `request.get`, we can use .content so ee what we exactly get, in here i slice it so it won't make our screen full of the html we get from the page. You can delete the slicing if you want to see what we fully get."
   ]
  },
  {
   "cell_type": "code",
   "execution_count": 2,
   "metadata": {
    "ExecuteTime": {
     "end_time": "2020-01-13T05:12:23.290648Z",
     "start_time": "2020-01-13T05:12:23.277650Z"
    }
   },
   "outputs": [
    {
     "data": {
      "text/plain": [
       "b'\\n<!DOCTYPE html>\\r\\n<!--[if lt IE 9]>\\r\\n    <html class=\"no-js ie8 oldie\" lang=\\'en\\' xml:lang=\\'en\\'>\\r\\n<![endif]-->\\r\\n<!--[if gt IE 8]><!--> <html class=\"no-js\" lang=\\'en\\' xml:lang=\\'en\\'> <!--<![endif]-->\\r\\n<head><title>Indonesian Rupiah Exchange Rate - US Dollar - Historical Exchange Rates</title>\\n<meta http-equiv=\"X-UA-Compatible\" content=\"IE=edge\">\\n<meta content=\"C#\" name=\"CODE_LANGUAGE\" />\\n<meta content=\"JavaScript\" name=\"vs_defaultClientScript\" />\\n<meta content=\"http://schemas.microsoft.com/intellisense/ie5\" name=\"vs_targetSchema\" />\\n<meta name=\"viewport\" content=\"width=device-width, initial-scale=1, maximum-scale=5\">\\n<meta http-equiv=\"Content-Type\" content=\"text/html; charset=utf-8\" />\\n\\n<meta name=\"mapping\" content=\"AP\" />\\n<base href=\"https://www.exchange-rates.org/\" />\\n<link rel=\"dns-prefetch\" href=\"https://ajax.googleapis.com/\" />\\r\\n<link rel=\"dns-prefetch\" href=\"https://www.google-analytics.com/\" />\\r\\n<link rel=\"preload\" href=\"https://dol8qrceshfrq.cloudfront.net/cache/2020-03-18-01-05-'"
      ]
     },
     "execution_count": 2,
     "metadata": {},
     "output_type": "execute_result"
    }
   ],
   "source": [
    "url_get.content[1:999]"
   ]
  },
  {
   "cell_type": "markdown",
   "metadata": {},
   "source": [
    "As we can see we get a very unstructured and complex html, which actually contains the codes needed to show the webpages on your web browser. But we as human still confused what and where we can use that piece of code, so here where we use the beautifulsoup. Beautiful soup class will result a beautifulsoup object. Beautiful Soup transforms a complex HTML document into a complex tree of Python objects. \n",
    "\n",
    "Let's make Beautiful soup object and feel free to explore the object here."
   ]
  },
  {
   "cell_type": "code",
   "execution_count": 3,
   "metadata": {
    "ExecuteTime": {
     "end_time": "2020-01-13T05:12:23.808122Z",
     "start_time": "2020-01-13T05:12:23.292610Z"
    }
   },
   "outputs": [
    {
     "name": "stdout",
     "output_type": "stream",
     "text": [
      "<class 'bs4.BeautifulSoup'>\n"
     ]
    }
   ],
   "source": [
    "from bs4 import BeautifulSoup \n",
    "\n",
    "soup = BeautifulSoup(url_get.content,\"html.parser\")\n",
    "print(type(soup))"
   ]
  },
  {
   "cell_type": "markdown",
   "metadata": {},
   "source": [
    "## Finding the right key to scrap the data & Extracting the right information"
   ]
  },
  {
   "cell_type": "markdown",
   "metadata": {},
   "source": [
    "Find the key and put the key into the `.find()` Put all the exploring the right key at this cell. (please change this markdown with your explanation)"
   ]
  },
  {
   "cell_type": "code",
   "execution_count": 4,
   "metadata": {},
   "outputs": [
    {
     "name": "stdout",
     "output_type": "stream",
     "text": [
      "!DOCTYPE html>\n",
      "<!--[if lt IE 9]>\r\n",
      "    <html class=\"no-js ie8 oldie\" lang='en' xml:lang='en'>\r\n",
      "<![endif]-->\n",
      "<!--[if gt IE 8]><!-->\n",
      "<html class=\"no-js\" lang=\"en\" xml:lang=\"en\">\n",
      " <!--<![endif]-->\n",
      " <head>\n",
      "  <title>\n",
      "   Indonesian Rupiah Exchange Rate - US Dollar - Historical Exchange Rates\n",
      "  </title>\n",
      "  <meta content=\"IE=edge\" http-equiv=\"X-UA-Compatible\"/>\n",
      "  <meta content=\"C#\" name=\"CODE_LANGUAGE\">\n",
      "   <meta content=\"JavaScript\" name=\"vs_defaultClientScript\"/>\n",
      "   <meta content=\"http://schemas.microso\n"
     ]
    }
   ],
   "source": [
    "print(soup.prettify()[1:500])"
   ]
  },
  {
   "cell_type": "code",
   "execution_count": 5,
   "metadata": {
    "ExecuteTime": {
     "end_time": "2020-01-13T05:12:23.878904Z",
     "start_time": "2020-01-13T05:12:23.854974Z"
    },
    "scrolled": true
   },
   "outputs": [
    {
     "name": "stdout",
     "output_type": "stream",
     "text": [
      "table class=\"table table-striped table-hover table-hover-solid-row table-simple history-data\">\n",
      " <tbody>\n",
      "  <tr>\n",
      "   <td>\n",
      "    3/5/2021\n",
      "   </td>\n",
      "   <td>\n",
      "    Friday\n",
      "   </td>\n",
      "   <td>\n",
      "    <a href=\"/Rate/USD/IDR/3-5-2021\">\n",
      "     14,292.17893\n",
      "    </a>\n",
      "    IDR\n",
      "   </td>\n",
      "   <td class=\"text-narrow-screen-hidden\">\n",
      "    <a href=\"/Rate/USD/IDR/3-5-2021\">\n",
      "     USD IDR rate for 3/5/2021\n",
      "    </a>\n",
      "   </td>\n",
      "  </tr>\n",
      "  <tr>\n",
      "   <td>\n",
      "    3/4/2021\n",
      "   </td>\n",
      "   <td>\n",
      "    Thursday\n",
      "   </td>\n",
      "   <td>\n",
      "    <a href=\"/Rate/USD/IDR/3\n"
     ]
    }
   ],
   "source": [
    "table = soup.find('table', attrs={'class':'table table-striped table-hover table-hover-solid-row table-simple history-data'})\n",
    "print(table.prettify()[1:500])"
   ]
  },
  {
   "cell_type": "code",
   "execution_count": 6,
   "metadata": {
    "scrolled": true
   },
   "outputs": [
    {
     "data": {
      "text/plain": [
       "[<tr><td>3/5/2021</td><td>Friday</td><td><a href=\"/Rate/USD/IDR/3-5-2021\">14,292.17893</a> IDR</td><td class=\"text-narrow-screen-hidden\"><a href=\"/Rate/USD/IDR/3-5-2021\">USD IDR rate for 3/5/2021</a></td></tr>,\n",
       " <tr><td>3/4/2021</td><td>Thursday</td><td><a href=\"/Rate/USD/IDR/3-4-2021\">14,261.85426</a> IDR</td><td class=\"text-narrow-screen-hidden\"><a href=\"/Rate/USD/IDR/3-4-2021\">USD IDR rate for 3/4/2021</a></td></tr>,\n",
       " <tr><td>3/3/2021</td><td>Wednesday</td><td><a href=\"/Rate/USD/IDR/3-3-2021\">14,257.29443</a> IDR</td><td class=\"text-narrow-screen-hidden\"><a href=\"/Rate/USD/IDR/3-3-2021\">USD IDR rate for 3/3/2021</a></td></tr>]"
      ]
     },
     "execution_count": 6,
     "metadata": {},
     "output_type": "execute_result"
    }
   ],
   "source": [
    "tr = table.find_all('tr')\n",
    "tr[:3]"
   ]
  },
  {
   "cell_type": "markdown",
   "metadata": {},
   "source": [
    "Do the scrapping process here (please change this markdown with your explanation)"
   ]
  },
  {
   "cell_type": "code",
   "execution_count": 7,
   "metadata": {},
   "outputs": [
    {
     "data": {
      "text/plain": [
       "<tr><td>3/2/2021</td><td>Tuesday</td><td><a href=\"/Rate/USD/IDR/3-2-2021\">14,256.28041</a> IDR</td><td class=\"text-narrow-screen-hidden\"><a href=\"/Rate/USD/IDR/3-2-2021\">USD IDR rate for 3/2/2021</a></td></tr>"
      ]
     },
     "execution_count": 7,
     "metadata": {},
     "output_type": "execute_result"
    }
   ],
   "source": [
    "row= table.find_all('tr')[3]\n",
    "row"
   ]
  },
  {
   "cell_type": "code",
   "execution_count": 8,
   "metadata": {
    "scrolled": true
   },
   "outputs": [
    {
     "name": "stdout",
     "output_type": "stream",
     "text": [
      "<td><a href=\"/Rate/USD/IDR/1-19-2021\">14,063.60877</a> IDR</td>\n"
     ]
    }
   ],
   "source": [
    "for i in range(1, len(tr)):\n",
    "    row = table.find_all('td')[i]\n",
    "print(row)"
   ]
  },
  {
   "cell_type": "code",
   "execution_count": 26,
   "metadata": {
    "ExecuteTime": {
     "end_time": "2020-01-13T05:12:24.008256Z",
     "start_time": "2020-01-13T05:12:23.980358Z"
    }
   },
   "outputs": [
    {
     "data": {
      "text/plain": [
       "[('3/4/2021', 'Thursday', '14,261.85426 IDR'),\n",
       " ('3/3/2021', 'Wednesday', '14,257.29443 IDR'),\n",
       " ('3/2/2021', 'Tuesday', '14,256.28041 IDR'),\n",
       " ('3/1/2021', 'Monday', '14,248.60576 IDR'),\n",
       " ('2/26/2021', 'Friday', '14,300.27815 IDR'),\n",
       " ('2/25/2021', 'Thursday', '14,139.73096 IDR'),\n",
       " ('2/24/2021', 'Wednesday', '14,083.03673 IDR'),\n",
       " ('2/23/2021', 'Tuesday', '14,092.64503 IDR'),\n",
       " ('2/22/2021', 'Monday', '14,118.07274 IDR'),\n",
       " ('2/19/2021', 'Friday', '14,066.79375 IDR'),\n",
       " ('2/18/2021', 'Thursday', '14,013.51318 IDR'),\n",
       " ('2/18/2021', 'Thursday', '14,013.51318 IDR'),\n",
       " ('2/17/2021', 'Wednesday', '14,015.16095 IDR'),\n",
       " ('2/16/2021', 'Tuesday', '13,935.96629 IDR'),\n",
       " ('2/15/2021', 'Monday', '13,918.18725 IDR'),\n",
       " ('2/12/2021', 'Friday', '13,988.54710 IDR'),\n",
       " ('2/11/2021', 'Thursday', '13,982.27900 IDR'),\n",
       " ('2/10/2021', 'Wednesday', '13,994.09212 IDR'),\n",
       " ('2/9/2021', 'Tuesday', '13,920.52018 IDR'),\n",
       " ('2/8/2021', 'Monday', '14,007.25257 IDR'),\n",
       " ('2/5/2021', 'Friday', '14,008.99630 IDR'),\n",
       " ('2/4/2021', 'Thursday', '14,020.87878 IDR'),\n",
       " ('2/3/2021', 'Wednesday', '13,997.60682 IDR'),\n",
       " ('2/2/2021', 'Tuesday', '14,004.60175 IDR'),\n",
       " ('2/1/2021', 'Monday', '14,025.27450 IDR'),\n",
       " ('1/29/2021', 'Friday', '14,027.32457 IDR'),\n",
       " ('1/28/2021', 'Thursday', '14,048.06146 IDR'),\n",
       " ('1/27/2021', 'Wednesday', '14,048.72649 IDR'),\n",
       " ('1/26/2021', 'Tuesday', '14,062.91108 IDR'),\n",
       " ('1/25/2021', 'Monday', '14,021.11609 IDR'),\n",
       " ('1/22/2021', 'Friday', '14,025.60268 IDR'),\n",
       " ('1/21/2021', 'Thursday', '13,964.91920 IDR'),\n",
       " ('1/20/2021', 'Wednesday', '14,021.43046 IDR'),\n",
       " ('1/19/2021', 'Tuesday', '14,063.60877 IDR'),\n",
       " ('1/18/2021', 'Monday', '14,055.43768 IDR'),\n",
       " ('1/18/2021', 'Monday', '14,055.43768 IDR'),\n",
       " ('1/15/2021', 'Friday', '14,153.46654 IDR'),\n",
       " ('1/14/2021', 'Thursday', '14,070.58746 IDR'),\n",
       " ('1/13/2021', 'Wednesday', '14,125.90174 IDR'),\n",
       " ('1/12/2021', 'Tuesday', '14,074.81444 IDR'),\n",
       " ('1/11/2021', 'Monday', '14,137.24151 IDR'),\n",
       " ('1/8/2021', 'Friday', '13,991.16348 IDR'),\n",
       " ('1/7/2021', 'Thursday', '13,905.64377 IDR'),\n",
       " ('1/6/2021', 'Wednesday', '13,861.51463 IDR'),\n",
       " ('1/5/2021', 'Tuesday', '13,906.05686 IDR'),\n",
       " ('1/4/2021', 'Monday', '14,015.86887 IDR'),\n",
       " ('1/1/2021', 'Friday', '14,213.67526 IDR'),\n",
       " ('12/31/2020', 'Thursday', '14,120.57461 IDR'),\n",
       " ('12/30/2020', 'Wednesday', '14,020.01350 IDR'),\n",
       " ('12/29/2020', 'Tuesday', '14,108.18177 IDR'),\n",
       " ('12/28/2020', 'Monday', '14,139.81753 IDR'),\n",
       " ('12/25/2020', 'Friday', '14,211.65343 IDR'),\n",
       " ('12/24/2020', 'Thursday', '14,188.41293 IDR'),\n",
       " ('12/23/2020', 'Wednesday', '14,183.64082 IDR'),\n",
       " ('12/22/2020', 'Tuesday', '14,164.98134 IDR'),\n",
       " ('12/21/2020', 'Monday', '14,124.20148 IDR'),\n",
       " ('12/18/2020', 'Friday', '14,101.05758 IDR'),\n",
       " ('12/17/2020', 'Thursday', '14,101.72807 IDR'),\n",
       " ('12/16/2020', 'Wednesday', '14,084.50704 IDR'),\n",
       " ('12/15/2020', 'Tuesday', '14,124.19150 IDR'),\n",
       " ('12/14/2020', 'Monday', '14,087.17417 IDR'),\n",
       " ('12/11/2020', 'Friday', '14,076.36739 IDR'),\n",
       " ('12/10/2020', 'Thursday', '14,103.70444 IDR'),\n",
       " ('12/9/2020', 'Wednesday', '14,096.39851 IDR'),\n",
       " ('12/8/2020', 'Tuesday', '14,105.04229 IDR'),\n",
       " ('12/7/2020', 'Monday', '14,103.58039 IDR'),\n",
       " ('12/4/2020', 'Friday', '14,092.75807 IDR'),\n",
       " ('12/3/2020', 'Thursday', '14,109.15139 IDR'),\n",
       " ('12/2/2020', 'Wednesday', '14,094.65785 IDR'),\n",
       " ('12/1/2020', 'Tuesday', '14,118.51435 IDR'),\n",
       " ('11/30/2020', 'Monday', '14,114.11663 IDR'),\n",
       " ('11/27/2020', 'Friday', '14,078.12448 IDR'),\n",
       " ('11/26/2020', 'Thursday', '14,090.70769 IDR'),\n",
       " ('11/25/2020', 'Wednesday', '14,136.09929 IDR'),\n",
       " ('11/24/2020', 'Tuesday', '14,137.48161 IDR'),\n",
       " ('11/23/2020', 'Monday', '14,185.57119 IDR'),\n",
       " ('11/20/2020', 'Friday', '14,162.60519 IDR'),\n",
       " ('11/19/2020', 'Thursday', '14,165.50144 IDR'),\n",
       " ('11/18/2020', 'Wednesday', '14,051.29503 IDR'),\n",
       " ('11/17/2020', 'Tuesday', '14,040.16051 IDR'),\n",
       " ('11/16/2020', 'Monday', '14,085.69501 IDR'),\n",
       " ('11/13/2020', 'Friday', '14,142.77143 IDR'),\n",
       " ('11/12/2020', 'Thursday', '14,141.24303 IDR'),\n",
       " ('11/11/2020', 'Wednesday', '14,073.46024 IDR'),\n",
       " ('11/10/2020', 'Tuesday', '14,053.76135 IDR'),\n",
       " ('11/9/2020', 'Monday', '14,283.29667 IDR'),\n",
       " ('11/6/2020', 'Friday', '14,214.49744 IDR'),\n",
       " ('11/5/2020', 'Thursday', '14,389.14027 IDR'),\n",
       " ('11/4/2020', 'Wednesday', '14,544.44634 IDR'),\n",
       " ('11/3/2020', 'Tuesday', '14,589.01774 IDR'),\n",
       " ('11/2/2020', 'Monday', '14,612.89990 IDR'),\n",
       " ('10/30/2020', 'Friday', '14,629.16216 IDR'),\n",
       " ('10/29/2020', 'Thursday', '14,701.62361 IDR'),\n",
       " ('10/28/2020', 'Wednesday', '14,701.92586 IDR'),\n",
       " ('10/27/2020', 'Tuesday', '14,649.78960 IDR'),\n",
       " ('10/26/2020', 'Monday', '14,652.88010 IDR'),\n",
       " ('10/23/2020', 'Friday', '14,655.04157 IDR'),\n",
       " ('10/22/2020', 'Thursday', '14,647.90877 IDR'),\n",
       " ('10/21/2020', 'Wednesday', '14,641.61060 IDR'),\n",
       " ('10/20/2020', 'Tuesday', '14,555.88071 IDR'),\n",
       " ('10/19/2020', 'Monday', '14,705.13256 IDR'),\n",
       " ('10/16/2020', 'Friday', '14,688.43616 IDR'),\n",
       " ('10/15/2020', 'Thursday', '14,667.95340 IDR'),\n",
       " ('10/14/2020', 'Wednesday', '14,696.21912 IDR'),\n",
       " ('10/13/2020', 'Tuesday', '14,687.35100 IDR'),\n",
       " ('10/12/2020', 'Monday', '14,677.85296 IDR'),\n",
       " ('10/9/2020', 'Friday', '14,679.27910 IDR'),\n",
       " ('10/8/2020', 'Thursday', '14,692.93025 IDR'),\n",
       " ('10/7/2020', 'Wednesday', '14,705.58246 IDR'),\n",
       " ('10/6/2020', 'Tuesday', '14,857.67854 IDR'),\n",
       " ('10/5/2020', 'Monday', '14,797.90178 IDR'),\n",
       " ('10/2/2020', 'Friday', '14,852.30483 IDR'),\n",
       " ('10/1/2020', 'Thursday', '14,822.66605 IDR'),\n",
       " ('9/30/2020', 'Wednesday', '14,867.44686 IDR'),\n",
       " ('9/29/2020', 'Tuesday', '14,880.93210 IDR'),\n",
       " ('9/28/2020', 'Monday', '14,892.32194 IDR'),\n",
       " ('9/27/2020', 'Sunday', '14,859.98349 IDR'),\n",
       " ('9/25/2020', 'Friday', '14,855.63943 IDR'),\n",
       " ('9/24/2020', 'Thursday', '14,888.78607 IDR'),\n",
       " ('9/23/2020', 'Wednesday', '14,825.54899 IDR'),\n",
       " ('9/22/2020', 'Tuesday', '14,751.85786 IDR'),\n",
       " ('9/21/2020', 'Monday', '14,701.43420 IDR'),\n",
       " ('9/20/2020', 'Sunday', '14,728.84529 IDR'),\n",
       " ('9/18/2020', 'Friday', '14,730.71792 IDR'),\n",
       " ('9/17/2020', 'Thursday', '14,829.41738 IDR'),\n",
       " ('9/16/2020', 'Wednesday', '14,807.88761 IDR'),\n",
       " ('9/15/2020', 'Tuesday', '14,843.44670 IDR'),\n",
       " ('9/14/2020', 'Monday', '14,864.65988 IDR'),\n",
       " ('9/13/2020', 'Sunday', '14,876.45021 IDR'),\n",
       " ('9/11/2020', 'Friday', '14,865.27553 IDR'),\n",
       " ('9/10/2020', 'Thursday', '14,871.58664 IDR'),\n",
       " ('9/9/2020', 'Wednesday', '14,783.50009 IDR'),\n",
       " ('9/8/2020', 'Tuesday', '14,839.54267 IDR'),\n",
       " ('9/7/2020', 'Monday', '14,743.92989 IDR'),\n",
       " ('9/6/2020', 'Sunday', '14,754.95155 IDR')]"
      ]
     },
     "execution_count": 26,
     "metadata": {},
     "output_type": "execute_result"
    }
   ],
   "source": [
    "currency = [] #initiating a tuple\n",
    "\n",
    "for i in range(1, len(tr)):\n",
    "    row = table.find_all('tr')[i]\n",
    "\n",
    "    if len(row)!=1:\n",
    "        #get date\n",
    "        date = row.find_all('td')[0].text\n",
    "        date = date.strip()\n",
    "        #get day\n",
    "        day = row.find_all('td')[1].text\n",
    "        day = day.strip()\n",
    "        #get price\n",
    "        price = row.find_all('td')[2].text\n",
    "        price = price.strip()\n",
    "    \n",
    "    currency.append((date,day,price))\n",
    "    \n",
    "currency"
   ]
  },
  {
   "cell_type": "markdown",
   "metadata": {},
   "source": [
    "## Creating data frame & Data wrangling"
   ]
  },
  {
   "cell_type": "markdown",
   "metadata": {},
   "source": [
    "Put the array into dataframe"
   ]
  },
  {
   "cell_type": "code",
   "execution_count": 27,
   "metadata": {
    "ExecuteTime": {
     "end_time": "2020-01-13T05:12:41.517372Z",
     "start_time": "2020-01-13T05:12:29.130015Z"
    }
   },
   "outputs": [
    {
     "data": {
      "text/html": [
       "<div>\n",
       "<style scoped>\n",
       "    .dataframe tbody tr th:only-of-type {\n",
       "        vertical-align: middle;\n",
       "    }\n",
       "\n",
       "    .dataframe tbody tr th {\n",
       "        vertical-align: top;\n",
       "    }\n",
       "\n",
       "    .dataframe thead th {\n",
       "        text-align: right;\n",
       "    }\n",
       "</style>\n",
       "<table border=\"1\" class=\"dataframe\">\n",
       "  <thead>\n",
       "    <tr style=\"text-align: right;\">\n",
       "      <th></th>\n",
       "      <th>Date</th>\n",
       "      <th>Day</th>\n",
       "      <th>Price USD/IDR</th>\n",
       "    </tr>\n",
       "  </thead>\n",
       "  <tbody>\n",
       "    <tr>\n",
       "      <th>0</th>\n",
       "      <td>3/4/2021</td>\n",
       "      <td>Thursday</td>\n",
       "      <td>14,261.85426 IDR</td>\n",
       "    </tr>\n",
       "    <tr>\n",
       "      <th>1</th>\n",
       "      <td>3/3/2021</td>\n",
       "      <td>Wednesday</td>\n",
       "      <td>14,257.29443 IDR</td>\n",
       "    </tr>\n",
       "    <tr>\n",
       "      <th>2</th>\n",
       "      <td>3/2/2021</td>\n",
       "      <td>Tuesday</td>\n",
       "      <td>14,256.28041 IDR</td>\n",
       "    </tr>\n",
       "    <tr>\n",
       "      <th>3</th>\n",
       "      <td>3/1/2021</td>\n",
       "      <td>Monday</td>\n",
       "      <td>14,248.60576 IDR</td>\n",
       "    </tr>\n",
       "    <tr>\n",
       "      <th>4</th>\n",
       "      <td>2/26/2021</td>\n",
       "      <td>Friday</td>\n",
       "      <td>14,300.27815 IDR</td>\n",
       "    </tr>\n",
       "  </tbody>\n",
       "</table>\n",
       "</div>"
      ],
      "text/plain": [
       "        Date        Day     Price USD/IDR\n",
       "0   3/4/2021   Thursday  14,261.85426 IDR\n",
       "1   3/3/2021  Wednesday  14,257.29443 IDR\n",
       "2   3/2/2021    Tuesday  14,256.28041 IDR\n",
       "3   3/1/2021     Monday  14,248.60576 IDR\n",
       "4  2/26/2021     Friday  14,300.27815 IDR"
      ]
     },
     "execution_count": 27,
     "metadata": {},
     "output_type": "execute_result"
    }
   ],
   "source": [
    "import pandas as pd\n",
    "\n",
    "df = pd.DataFrame(currency, columns = ('Date','Day','Price USD/IDR'))\n",
    "df.head()"
   ]
  },
  {
   "cell_type": "markdown",
   "metadata": {},
   "source": [
    "Do the data cleaning here (please change this markdown with your explanation of what you do for data wrangling)"
   ]
  },
  {
   "cell_type": "code",
   "execution_count": 28,
   "metadata": {
    "ExecuteTime": {
     "end_time": "2020-01-13T05:12:59.165559Z",
     "start_time": "2020-01-13T05:12:58.910012Z"
    },
    "scrolled": false
   },
   "outputs": [
    {
     "data": {
      "text/html": [
       "<div>\n",
       "<style scoped>\n",
       "    .dataframe tbody tr th:only-of-type {\n",
       "        vertical-align: middle;\n",
       "    }\n",
       "\n",
       "    .dataframe tbody tr th {\n",
       "        vertical-align: top;\n",
       "    }\n",
       "\n",
       "    .dataframe thead th {\n",
       "        text-align: right;\n",
       "    }\n",
       "</style>\n",
       "<table border=\"1\" class=\"dataframe\">\n",
       "  <thead>\n",
       "    <tr style=\"text-align: right;\">\n",
       "      <th></th>\n",
       "      <th>Date</th>\n",
       "      <th>Day</th>\n",
       "      <th>Price USD/IDR</th>\n",
       "    </tr>\n",
       "  </thead>\n",
       "  <tbody>\n",
       "    <tr>\n",
       "      <th>0</th>\n",
       "      <td>2021-03-04</td>\n",
       "      <td>Thursday</td>\n",
       "      <td>14,261.85426 IDR</td>\n",
       "    </tr>\n",
       "    <tr>\n",
       "      <th>1</th>\n",
       "      <td>2021-03-03</td>\n",
       "      <td>Wednesday</td>\n",
       "      <td>14,257.29443 IDR</td>\n",
       "    </tr>\n",
       "    <tr>\n",
       "      <th>2</th>\n",
       "      <td>2021-03-02</td>\n",
       "      <td>Tuesday</td>\n",
       "      <td>14,256.28041 IDR</td>\n",
       "    </tr>\n",
       "    <tr>\n",
       "      <th>3</th>\n",
       "      <td>2021-03-01</td>\n",
       "      <td>Monday</td>\n",
       "      <td>14,248.60576 IDR</td>\n",
       "    </tr>\n",
       "    <tr>\n",
       "      <th>4</th>\n",
       "      <td>2021-02-26</td>\n",
       "      <td>Friday</td>\n",
       "      <td>14,300.27815 IDR</td>\n",
       "    </tr>\n",
       "  </tbody>\n",
       "</table>\n",
       "</div>"
      ],
      "text/plain": [
       "        Date        Day     Price USD/IDR\n",
       "0 2021-03-04   Thursday  14,261.85426 IDR\n",
       "1 2021-03-03  Wednesday  14,257.29443 IDR\n",
       "2 2021-03-02    Tuesday  14,256.28041 IDR\n",
       "3 2021-03-01     Monday  14,248.60576 IDR\n",
       "4 2021-02-26     Friday  14,300.27815 IDR"
      ]
     },
     "execution_count": 28,
     "metadata": {},
     "output_type": "execute_result"
    }
   ],
   "source": [
    "df['Date'] = pd.to_datetime(df['Date'])\n",
    "df['Day'] = df['Day'].astype('category')\n",
    "df.head()"
   ]
  },
  {
   "cell_type": "code",
   "execution_count": 16,
   "metadata": {},
   "outputs": [],
   "source": [
    "df['Price USD/IDR'] = df['Price USD/IDR'].str.replace(',', '')\n",
    "df['Price USD/IDR'] = df['Price USD/IDR'].str.replace(' IDR', '')\n",
    "df['Price USD/IDR'] = df['Price USD/IDR'].astype('float64')"
   ]
  },
  {
   "cell_type": "code",
   "execution_count": 17,
   "metadata": {},
   "outputs": [],
   "source": [
    "df['Day']\n",
    "order = ['Sunday', 'Monday', 'Tuesday', 'Wednesday', 'Thursday', 'Friday']\n",
    "df['Day'] = df['Day'].cat.reorder_categories(order)"
   ]
  },
  {
   "cell_type": "code",
   "execution_count": 18,
   "metadata": {},
   "outputs": [
    {
     "data": {
      "text/html": [
       "<div>\n",
       "<style scoped>\n",
       "    .dataframe tbody tr th:only-of-type {\n",
       "        vertical-align: middle;\n",
       "    }\n",
       "\n",
       "    .dataframe tbody tr th {\n",
       "        vertical-align: top;\n",
       "    }\n",
       "\n",
       "    .dataframe thead th {\n",
       "        text-align: right;\n",
       "    }\n",
       "</style>\n",
       "<table border=\"1\" class=\"dataframe\">\n",
       "  <thead>\n",
       "    <tr style=\"text-align: right;\">\n",
       "      <th></th>\n",
       "      <th>Date</th>\n",
       "      <th>Day</th>\n",
       "      <th>Price USD/IDR</th>\n",
       "    </tr>\n",
       "  </thead>\n",
       "  <tbody>\n",
       "    <tr>\n",
       "      <th>0</th>\n",
       "      <td>2021-03-04</td>\n",
       "      <td>Thursday</td>\n",
       "      <td>14261.85426</td>\n",
       "    </tr>\n",
       "    <tr>\n",
       "      <th>1</th>\n",
       "      <td>2021-03-03</td>\n",
       "      <td>Wednesday</td>\n",
       "      <td>14257.29443</td>\n",
       "    </tr>\n",
       "    <tr>\n",
       "      <th>2</th>\n",
       "      <td>2021-03-02</td>\n",
       "      <td>Tuesday</td>\n",
       "      <td>14256.28041</td>\n",
       "    </tr>\n",
       "    <tr>\n",
       "      <th>3</th>\n",
       "      <td>2021-03-01</td>\n",
       "      <td>Monday</td>\n",
       "      <td>14248.60576</td>\n",
       "    </tr>\n",
       "    <tr>\n",
       "      <th>4</th>\n",
       "      <td>2021-02-26</td>\n",
       "      <td>Friday</td>\n",
       "      <td>14300.27815</td>\n",
       "    </tr>\n",
       "  </tbody>\n",
       "</table>\n",
       "</div>"
      ],
      "text/plain": [
       "        Date        Day  Price USD/IDR\n",
       "0 2021-03-04   Thursday    14261.85426\n",
       "1 2021-03-03  Wednesday    14257.29443\n",
       "2 2021-03-02    Tuesday    14256.28041\n",
       "3 2021-03-01     Monday    14248.60576\n",
       "4 2021-02-26     Friday    14300.27815"
      ]
     },
     "execution_count": 18,
     "metadata": {},
     "output_type": "execute_result"
    }
   ],
   "source": [
    "df.head()"
   ]
  },
  {
   "cell_type": "code",
   "execution_count": 19,
   "metadata": {},
   "outputs": [
    {
     "data": {
      "text/html": [
       "<div>\n",
       "<style scoped>\n",
       "    .dataframe tbody tr th:only-of-type {\n",
       "        vertical-align: middle;\n",
       "    }\n",
       "\n",
       "    .dataframe tbody tr th {\n",
       "        vertical-align: top;\n",
       "    }\n",
       "\n",
       "    .dataframe thead th {\n",
       "        text-align: right;\n",
       "    }\n",
       "</style>\n",
       "<table border=\"1\" class=\"dataframe\">\n",
       "  <thead>\n",
       "    <tr style=\"text-align: right;\">\n",
       "      <th></th>\n",
       "      <th>Date</th>\n",
       "      <th>Day</th>\n",
       "      <th>Price USD/IDR</th>\n",
       "    </tr>\n",
       "  </thead>\n",
       "  <tbody>\n",
       "    <tr>\n",
       "      <th>134</th>\n",
       "      <td>2020-09-06</td>\n",
       "      <td>Sunday</td>\n",
       "      <td>14754.95155</td>\n",
       "    </tr>\n",
       "    <tr>\n",
       "      <th>133</th>\n",
       "      <td>2020-09-07</td>\n",
       "      <td>Monday</td>\n",
       "      <td>14743.92989</td>\n",
       "    </tr>\n",
       "    <tr>\n",
       "      <th>132</th>\n",
       "      <td>2020-09-08</td>\n",
       "      <td>Tuesday</td>\n",
       "      <td>14839.54267</td>\n",
       "    </tr>\n",
       "    <tr>\n",
       "      <th>131</th>\n",
       "      <td>2020-09-09</td>\n",
       "      <td>Wednesday</td>\n",
       "      <td>14783.50009</td>\n",
       "    </tr>\n",
       "    <tr>\n",
       "      <th>130</th>\n",
       "      <td>2020-09-10</td>\n",
       "      <td>Thursday</td>\n",
       "      <td>14871.58664</td>\n",
       "    </tr>\n",
       "    <tr>\n",
       "      <th>...</th>\n",
       "      <td>...</td>\n",
       "      <td>...</td>\n",
       "      <td>...</td>\n",
       "    </tr>\n",
       "    <tr>\n",
       "      <th>4</th>\n",
       "      <td>2021-02-26</td>\n",
       "      <td>Friday</td>\n",
       "      <td>14300.27815</td>\n",
       "    </tr>\n",
       "    <tr>\n",
       "      <th>3</th>\n",
       "      <td>2021-03-01</td>\n",
       "      <td>Monday</td>\n",
       "      <td>14248.60576</td>\n",
       "    </tr>\n",
       "    <tr>\n",
       "      <th>2</th>\n",
       "      <td>2021-03-02</td>\n",
       "      <td>Tuesday</td>\n",
       "      <td>14256.28041</td>\n",
       "    </tr>\n",
       "    <tr>\n",
       "      <th>1</th>\n",
       "      <td>2021-03-03</td>\n",
       "      <td>Wednesday</td>\n",
       "      <td>14257.29443</td>\n",
       "    </tr>\n",
       "    <tr>\n",
       "      <th>0</th>\n",
       "      <td>2021-03-04</td>\n",
       "      <td>Thursday</td>\n",
       "      <td>14261.85426</td>\n",
       "    </tr>\n",
       "  </tbody>\n",
       "</table>\n",
       "<p>135 rows × 3 columns</p>\n",
       "</div>"
      ],
      "text/plain": [
       "          Date        Day  Price USD/IDR\n",
       "134 2020-09-06     Sunday    14754.95155\n",
       "133 2020-09-07     Monday    14743.92989\n",
       "132 2020-09-08    Tuesday    14839.54267\n",
       "131 2020-09-09  Wednesday    14783.50009\n",
       "130 2020-09-10   Thursday    14871.58664\n",
       "..         ...        ...            ...\n",
       "4   2021-02-26     Friday    14300.27815\n",
       "3   2021-03-01     Monday    14248.60576\n",
       "2   2021-03-02    Tuesday    14256.28041\n",
       "1   2021-03-03  Wednesday    14257.29443\n",
       "0   2021-03-04   Thursday    14261.85426\n",
       "\n",
       "[135 rows x 3 columns]"
      ]
     },
     "execution_count": 19,
     "metadata": {},
     "output_type": "execute_result"
    }
   ],
   "source": [
    "df = df[::-1]\n",
    "df"
   ]
  },
  {
   "cell_type": "markdown",
   "metadata": {},
   "source": [
    "### Implementing your webscrapping to the flask dashboard\n",
    "\n",
    "- Copy paste all of your web scrapping process to the desired position on the `app.py`\n",
    "- Changing the title of the dasboard at `index.html`"
   ]
  },
  {
   "cell_type": "markdown",
   "metadata": {},
   "source": [
    "## Finishing This Notebook with Your Analysis and Conclusion\n",
    "\n",
    "First you can do start with making the data visualisation. "
   ]
  },
  {
   "cell_type": "code",
   "execution_count": 20,
   "metadata": {
    "ExecuteTime": {
     "end_time": "2020-01-13T05:20:56.208237Z",
     "start_time": "2020-01-13T05:20:56.076043Z"
    }
   },
   "outputs": [
    {
     "name": "stdout",
     "output_type": "stream",
     "text": [
      "Requirement already satisfied: matplotlib in c:\\users\\asus\\anaconda3\\envs\\capstone-da\\lib\\site-packages (3.3.4)\n",
      "Requirement already satisfied: pillow>=6.2.0 in c:\\users\\asus\\anaconda3\\envs\\capstone-da\\lib\\site-packages (from matplotlib) (8.1.1)\n",
      "Requirement already satisfied: numpy>=1.15 in c:\\users\\asus\\anaconda3\\envs\\capstone-da\\lib\\site-packages (from matplotlib) (1.20.1)\n",
      "Requirement already satisfied: python-dateutil>=2.1 in c:\\users\\asus\\anaconda3\\envs\\capstone-da\\lib\\site-packages (from matplotlib) (2.8.1)\n",
      "Requirement already satisfied: kiwisolver>=1.0.1 in c:\\users\\asus\\anaconda3\\envs\\capstone-da\\lib\\site-packages (from matplotlib) (1.3.1)\n",
      "Requirement already satisfied: pyparsing!=2.0.4,!=2.1.2,!=2.1.6,>=2.0.3 in c:\\users\\asus\\anaconda3\\envs\\capstone-da\\lib\\site-packages (from matplotlib) (2.4.7)\n",
      "Requirement already satisfied: cycler>=0.10 in c:\\users\\asus\\anaconda3\\envs\\capstone-da\\lib\\site-packages (from matplotlib) (0.10.0)\n",
      "Requirement already satisfied: six in c:\\users\\asus\\anaconda3\\envs\\capstone-da\\lib\\site-packages (from cycler>=0.10->matplotlib) (1.15.0)\n",
      "Note: you may need to restart the kernel to use updated packages.\n"
     ]
    }
   ],
   "source": [
    "pip install matplotlib"
   ]
  },
  {
   "cell_type": "code",
   "execution_count": 21,
   "metadata": {},
   "outputs": [],
   "source": [
    "import matplotlib.pyplot as plt"
   ]
  },
  {
   "cell_type": "code",
   "execution_count": 22,
   "metadata": {},
   "outputs": [
    {
     "name": "stderr",
     "output_type": "stream",
     "text": [
      "C:\\Users\\ASUS\\anaconda3\\envs\\capstone-da\\lib\\site-packages\\pandas\\plotting\\_matplotlib\\converter.py:103: FutureWarning: Using an implicitly registered datetime converter for a matplotlib plotting method. The converter was registered by pandas on import. Future versions of pandas will require you to explicitly register matplotlib converters.\n",
      "\n",
      "To register the converters:\n",
      "\t>>> from pandas.plotting import register_matplotlib_converters\n",
      "\t>>> register_matplotlib_converters()\n",
      "  warnings.warn(msg, FutureWarning)\n"
     ]
    },
    {
     "data": {
      "image/png": "[encoded data removed]",
      "text/plain": [
       "<Figure size 432x288 with 1 Axes>"
      ]
     },
     "metadata": {
      "needs_background": "light"
     },
     "output_type": "display_data"
    }
   ],
   "source": [
    "plt.plot(df['Date'],df['Price USD/IDR'], color='red')\n",
    "plt.title('USD/IDR Price Chart')\n",
    "plt.xlabel('Dates')\n",
    "plt.ylabel('Price (IDR)')\n",
    "plt.show()"
   ]
  },
  {
   "cell_type": "markdown",
   "metadata": {},
   "source": [
    "As it shown above, the USD/IDR price tends to get lower for the past 6 months "
   ]
  },
  {
   "cell_type": "markdown",
   "metadata": {},
   "source": [
    "**We want to know the day where USD/IDR price tends to be low and high**"
   ]
  },
  {
   "cell_type": "code",
   "execution_count": 23,
   "metadata": {},
   "outputs": [
    {
     "data": {
      "text/html": [
       "<div>\n",
       "<style scoped>\n",
       "    .dataframe tbody tr th:only-of-type {\n",
       "        vertical-align: middle;\n",
       "    }\n",
       "\n",
       "    .dataframe tbody tr th {\n",
       "        vertical-align: top;\n",
       "    }\n",
       "\n",
       "    .dataframe thead th {\n",
       "        text-align: right;\n",
       "    }\n",
       "</style>\n",
       "<table border=\"1\" class=\"dataframe\">\n",
       "  <thead>\n",
       "    <tr style=\"text-align: right;\">\n",
       "      <th></th>\n",
       "      <th>Price USD/IDR</th>\n",
       "    </tr>\n",
       "    <tr>\n",
       "      <th>Day</th>\n",
       "      <th></th>\n",
       "    </tr>\n",
       "  </thead>\n",
       "  <tbody>\n",
       "    <tr>\n",
       "      <th>Sunday</th>\n",
       "      <td>14805.057635</td>\n",
       "    </tr>\n",
       "    <tr>\n",
       "      <th>Monday</th>\n",
       "      <td>14310.183738</td>\n",
       "    </tr>\n",
       "    <tr>\n",
       "      <th>Tuesday</th>\n",
       "      <td>14300.969863</td>\n",
       "    </tr>\n",
       "    <tr>\n",
       "      <th>Wednesday</th>\n",
       "      <td>14296.884792</td>\n",
       "    </tr>\n",
       "    <tr>\n",
       "      <th>Thursday</th>\n",
       "      <td>14294.593233</td>\n",
       "    </tr>\n",
       "    <tr>\n",
       "      <th>Friday</th>\n",
       "      <td>14312.461582</td>\n",
       "    </tr>\n",
       "  </tbody>\n",
       "</table>\n",
       "</div>"
      ],
      "text/plain": [
       "           Price USD/IDR\n",
       "Day                     \n",
       "Sunday      14805.057635\n",
       "Monday      14310.183738\n",
       "Tuesday     14300.969863\n",
       "Wednesday   14296.884792\n",
       "Thursday    14294.593233\n",
       "Friday      14312.461582"
      ]
     },
     "execution_count": 23,
     "metadata": {},
     "output_type": "execute_result"
    }
   ],
   "source": [
    "df.groupby('Day').mean()[['Price USD/IDR']]"
   ]
  },
  {
   "cell_type": "markdown",
   "metadata": {},
   "source": [
    "As it shown above from the table, we know that Tuesday is the best time to buy USD and Sunday is the best time to sell USD"
   ]
  },
  {
   "cell_type": "markdown",
   "metadata": {},
   "source": [
    "\n",
    "(Put your analysis and conclusion here.)"
   ]
  },
  {
   "cell_type": "markdown",
   "metadata": {},
   "source": [
    "### Extra Challange\n",
    "\n",
    "This will be not included to the scoring. \n",
    "\n",
    "- You can create additional analysis from the data.\n",
    "- Implement it to the dashboard with at `app.py` dan `index.html`."
   ]
  }
 ],
 "metadata": {
  "kernelspec": {
   "display_name": "capstone-da",
   "language": "python",
   "name": "capstone-da"
  },
  "language_info": {
   "codemirror_mode": {
    "name": "ipython",
    "version": 3
   },
   "file_extension": ".py",
   "mimetype": "text/x-python",
   "name": "python",
   "nbconvert_exporter": "python",
   "pygments_lexer": "ipython3",
   "version": "3.7.10"
  }
 },
 "nbformat": 4,
 "nbformat_minor": 2
}
